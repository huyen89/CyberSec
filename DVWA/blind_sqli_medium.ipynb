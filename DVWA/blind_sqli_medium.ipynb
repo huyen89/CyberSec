{
 "cells": [
  {
   "attachments": {},
   "cell_type": "markdown",
   "metadata": {},
   "source": [
    "## DVWA Blind SQLi Medium"
   ]
  },
  {
   "attachments": {},
   "cell_type": "markdown",
   "metadata": {},
   "source": [
    "# 1. Thực hiện đăng nhập"
   ]
  },
  {
   "cell_type": "code",
   "execution_count": 21,
   "metadata": {},
   "outputs": [],
   "source": [
    "import requests\n",
    "from bs4 import BeautifulSoup # Thư viện xử lý HTML\n",
    "\n",
    "USERNAME = \"admin\"  \n",
    "PASSWORD = \"password\"\n",
    "BASE_URL = \"http://localhost:32768/\" # DVWA Base URL\n",
    "\n",
    "# Lưu trữ phiên làm việc\n",
    "session = requests.Session()\n",
    "\n",
    "# Truy cập trang đăng nhập để lấy cookie và dữ liệu phiên làm việc\n",
    "login_page = session.get(BASE_URL + \"login.php\")\n",
    "soup = BeautifulSoup(login_page.content, 'html.parser')\n",
    "user_token = soup.find('input', {'name': 'user_token'}).get('value')\n",
    "\n",
    "# Gửi yêu cầu đăng nhập\n",
    "data = {\"username\": USERNAME, \"password\": PASSWORD, \"user_token\": user_token, \"Login\": \"Login#\"}\n",
    "response = session.post(BASE_URL + \"login.php\", data=data)\n",
    "\n",
    "# Kiểm tra đăng nhập thành công\n",
    "# Lưu trữ nội dung trang dashboard\n",
    "dashboard_page = session.get(BASE_URL + \"index.php\")\n",
    "\n",
    "# Lưu trữ tiêu đề dashboard\n",
    "dashboard_title = BeautifulSoup(dashboard_page.content, 'html.parser').title.text"
   ]
  },
  {
   "attachments": {},
   "cell_type": "markdown",
   "metadata": {},
   "source": [
    "# 2. Kiểm tra phiên bản hiện tại"
   ]
  },
  {
   "cell_type": "code",
   "execution_count": 22,
   "metadata": {},
   "outputs": [
    {
     "name": "stdout",
     "output_type": "stream",
     "text": [
      "Đăng nhập thành công\n",
      "<RequestsCookieJar[<Cookie PHPSESSID=vactjnoltufco3pi66f0nmvhd5 for localhost.local/>, <Cookie security=low for localhost.local/>]>\n"
     ]
    }
   ],
   "source": [
    "if \"Welcome :: Damn Vulnerable Web Application (DVWA) v1.10 *Development*\" == dashboard_title:\n",
    "    print (\"Đăng nhập thành công\")\n",
    "    // tiep tuc hoan thien\n",
    "else:\n",
    "    print (\"Đăng nhập thất bại\")"
   ]
  }
 ],
 "metadata": {
  "kernelspec": {
   "display_name": "Python 3",
   "language": "python",
   "name": "python3"
  },
  "language_info": {
   "codemirror_mode": {
    "name": "ipython",
    "version": 3
   },
   "file_extension": ".py",
   "mimetype": "text/x-python",
   "name": "python",
   "nbconvert_exporter": "python",
   "pygments_lexer": "ipython3",
   "version": "3.11.3"
  },
  "orig_nbformat": 4
 },
 "nbformat": 4,
 "nbformat_minor": 2
}
