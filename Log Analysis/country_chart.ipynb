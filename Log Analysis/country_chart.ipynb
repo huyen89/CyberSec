{
 "cells": [
  {
   "attachments": {},
   "cell_type": "markdown",
   "metadata": {},
   "source": [
    "## 1. Xử lý thông tin các địa chỉ IP gửi request tới hệ thống\n",
    "Lưu lại thông tin địa chỉ IP và số lần gửi request tương ứng dưới dạng dictionary"
   ]
  },
  {
   "cell_type": "code",
   "execution_count": null,
   "metadata": {},
   "outputs": [],
   "source": [
    "# Import thư viện regular expression\n",
    "import re\n",
    "\n",
    "# Lưu địa chỉ file log vào file_path\n",
    "file_path = 'modsec_audit.log'\n",
    "# Pattern của biểu thức chính quy\n",
    "pattern = r'--\\w+-A--\\n\\[[\\w@ \\/\\:\\-]+\\] [\\w@]+ \\b((?:\\d{1,3}\\.){3}\\d{1,3})\\b'\n",
    "\n",
    "# Khởi tạo biến dict ip_count\n",
    "ip_count = {}"
   ]
  },
  {
   "cell_type": "code",
   "execution_count": null,
   "metadata": {},
   "outputs": [],
   "source": [
    "# Đọc thông tin từ file log theo cụm (mỗi cụm cách nhau bởi 1 dòng trống)\n",
    "with open(file_path, 'r', encoding='latin-1') as file:\n",
    "    log_text = ''\n",
    "    line = file.readline()\n",
    "    while line:\n",
    "        if line.strip() != '':  # Kiểm tra nếu dòng không phải là dòng trống\n",
    "            log_text += line\n",
    "        elif log_text != '':\n",
    "            matches = re.findall(pattern, log_text)\n",
    "            for ip in matches:\n",
    "                if ip in ip_count:\n",
    "                    ip_count[ip] += 1\n",
    "                else:\n",
    "                    ip_count[ip] = 1\n",
    "            log_text = ''\n",
    "        line = file.readline()\n",
    "\n",
    "# Kiểm tra xem có đoạn văn bản cuối cùng cần được xử lý không\n",
    "if log_text != '':\n",
    "    matches = re.findall(pattern, log_text)\n",
    "    for ip in matches:\n",
    "        if ip in ip_count:\n",
    "            ip_count[ip] += 1\n",
    "        else:\n",
    "            ip_count[ip] = 1\n",
    "\n",
    "# Hoàn thành lưu trữ thông tin IP và số lần gửi request tương ứng tới hệ thống trong ip_count\n",
    "# print(ip_count)"
   ]
  },
  {
   "attachments": {},
   "cell_type": "markdown",
   "metadata": {},
   "source": [
    "## 2. Chuyển từ địa chỉ IP chuyển thành location (country)"
   ]
  },
  {
   "cell_type": "code",
   "execution_count": null,
   "metadata": {},
   "outputs": [],
   "source": [
    "# Import thư viện chuyển từ IP sang country_code\n",
    "import IP2Location\n",
    "\n",
    "# Hàm xử lý chuyển từ IP sang country_code\n",
    "def get_country_code(ip_address):\n",
    "    database = IP2Location.IP2Location('IPV6-COUNTRY.SAMPLE.BIN')\n",
    "    result = database.get_all(ip_address)\n",
    "    country_code = result.country_short\n",
    "    return country_code\n",
    "\n",
    "# Dict chứa country_code và số request tương ứng\n",
    "location = {}\n",
    "\n",
    "# Duyệt qua tất cả ip_address trong ip_count và lưu trữ trong dict location\n",
    "for ip_address in ip_count:\n",
    "    country_code = get_country_code(ip_address)\n",
    "    if country_code in location:\n",
    "        location[country_code] += ip_count[ip_address]\n",
    "    else: \n",
    "        location[country_code] = ip_count[ip_address]\n",
    "\n",
    "# print(location)\n"
   ]
  },
  {
   "attachments": {},
   "cell_type": "markdown",
   "metadata": {},
   "source": [
    "## 3. Vẽ biểu đồ"
   ]
  },
  {
   "cell_type": "code",
   "execution_count": null,
   "metadata": {},
   "outputs": [],
   "source": [
    "# Thư viện xử lý vẽ biểu đồ\n",
    "import matplotlib.pyplot as plt\n",
    "\n",
    "# Minimum counts cho các quốc gia trong biểu đồ\n",
    "MINIMUM = 1000"
   ]
  },
  {
   "attachments": {},
   "cell_type": "markdown",
   "metadata": {},
   "source": [
    "3.1 Biểu đồ tròn"
   ]
  },
  {
   "cell_type": "code",
   "execution_count": null,
   "metadata": {},
   "outputs": [],
   "source": [
    "# Tách danh sách các quốc gia và số lượng thành hai danh sách riêng\n",
    "countries = list(location.keys())\n",
    "counts = list(location.values())\n",
    "\n",
    "# Tìm các quốc gia có giá trị < MINIMUM\n",
    "small_countries = [country for country, count in zip(countries, counts) if count < MINIMUM]\n",
    "small_counts = [count for count in counts if count < MINIMUM]\n",
    "\n",
    "# Tính tổng số lượng các quốc gia nhỏ (nhỏ hơn MINIMUM)\n",
    "sum_small_counts = 0\n",
    "for small_count in small_counts:\n",
    "    sum_small_counts += small_count\n",
    "\n",
    "# Thêm mục \"Khác\" vào danh sách quốc gia và số lượng\n",
    "countries.append('Khác')\n",
    "counts.append(sum_small_counts)\n",
    "\n",
    "# Loại bỏ các quốc gia nhỏ từ danh sách ban đầu\n",
    "countries = [country for country, count in zip(countries, counts) if count >= MINIMUM]\n",
    "counts = [count for count in counts if count >= MINIMUM]\n",
    "\n",
    "# Vẽ biểu đồ tròn\n",
    "plt.pie(counts, labels=countries, autopct='%1.1f%%')\n",
    "\n",
    "# Đặt tiêu đề cho biểu đồ\n",
    "plt.title('IP Addresses by Country')\n",
    "\n",
    "# Hiển thị biểu đồ\n",
    "plt.show()\n"
   ]
  },
  {
   "attachments": {},
   "cell_type": "markdown",
   "metadata": {},
   "source": [
    "3.2 Biểu đồ cột"
   ]
  },
  {
   "cell_type": "code",
   "execution_count": null,
   "metadata": {},
   "outputs": [],
   "source": [
    "# Tách danh sách các quốc gia và số lượng thành hai danh sách riêng\n",
    "countries = list(location.keys())\n",
    "counts = list(location.values())\n",
    "\n",
    "# Tạo danh sách chỉ số và danh sách các nước thỏa mãn điều kiện\n",
    "filtered_indexes = [i for i, count in enumerate(counts) if count >= MINIMUM]\n",
    "filtered_countries = [countries[i] for i in filtered_indexes]\n",
    "filtered_counts = [counts[i] for i in filtered_indexes]\n",
    "\n",
    "# Tạo một list các chỉ số từ 0 đến độ dài của danh sách nước thỏa mãn điều kiện\n",
    "x_indexes = range(len(filtered_countries))\n",
    "\n",
    "# Vẽ biểu đồ cột\n",
    "plt.bar(x_indexes, filtered_counts)\n",
    "\n",
    "# Đặt nhãn cho trục x\n",
    "plt.xticks(x_indexes, filtered_countries, rotation='vertical')\n",
    "\n",
    "# Đặt tiêu đề cho biểu đồ\n",
    "plt.title('IP Addresses by Country (Counts >= {})'.format(MINIMUM))\n",
    "\n",
    "# Hiển thị biểu đồ\n",
    "plt.show()\n"
   ]
  }
 ],
 "metadata": {
  "kernelspec": {
   "display_name": "Python 3",
   "language": "python",
   "name": "python3"
  },
  "language_info": {
   "codemirror_mode": {
    "name": "ipython",
    "version": 3
   },
   "file_extension": ".py",
   "mimetype": "text/x-python",
   "name": "python",
   "nbconvert_exporter": "python",
   "pygments_lexer": "ipython3",
   "version": "3.11.4"
  },
  "orig_nbformat": 4
 },
 "nbformat": 4,
 "nbformat_minor": 2
}
